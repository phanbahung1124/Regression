{
 "cells": [
  {
   "cell_type": "code",
   "execution_count": 56,
   "id": "41fcb6dc",
   "metadata": {},
   "outputs": [],
   "source": [
    "import pandas as pd\n",
    "import matplotlib.pyplot as plt"
   ]
  },
  {
   "cell_type": "code",
   "execution_count": 57,
   "id": "380a687f",
   "metadata": {},
   "outputs": [],
   "source": [
    "dataframe = pd.read_excel('C:/Users/admin/Downloads/advertising.xlsx')"
   ]
  },
  {
   "cell_type": "code",
   "execution_count": 58,
   "id": "fb815c1b",
   "metadata": {},
   "outputs": [
    {
     "data": {
      "text/html": [
       "<div>\n",
       "<style scoped>\n",
       "    .dataframe tbody tr th:only-of-type {\n",
       "        vertical-align: middle;\n",
       "    }\n",
       "\n",
       "    .dataframe tbody tr th {\n",
       "        vertical-align: top;\n",
       "    }\n",
       "\n",
       "    .dataframe thead th {\n",
       "        text-align: right;\n",
       "    }\n",
       "</style>\n",
       "<table border=\"1\" class=\"dataframe\">\n",
       "  <thead>\n",
       "    <tr style=\"text-align: right;\">\n",
       "      <th></th>\n",
       "      <th>ID</th>\n",
       "      <th>TV</th>\n",
       "      <th>Radio</th>\n",
       "      <th>Newspaper</th>\n",
       "      <th>Sales</th>\n",
       "    </tr>\n",
       "  </thead>\n",
       "  <tbody>\n",
       "    <tr>\n",
       "      <th>0</th>\n",
       "      <td>1</td>\n",
       "      <td>230.1</td>\n",
       "      <td>37.8</td>\n",
       "      <td>69.2</td>\n",
       "      <td>22.1</td>\n",
       "    </tr>\n",
       "    <tr>\n",
       "      <th>1</th>\n",
       "      <td>2</td>\n",
       "      <td>44.5</td>\n",
       "      <td>39.3</td>\n",
       "      <td>45.1</td>\n",
       "      <td>10.4</td>\n",
       "    </tr>\n",
       "    <tr>\n",
       "      <th>2</th>\n",
       "      <td>3</td>\n",
       "      <td>17.2</td>\n",
       "      <td>45.9</td>\n",
       "      <td>69.3</td>\n",
       "      <td>9.3</td>\n",
       "    </tr>\n",
       "    <tr>\n",
       "      <th>3</th>\n",
       "      <td>4</td>\n",
       "      <td>151.5</td>\n",
       "      <td>41.3</td>\n",
       "      <td>58.5</td>\n",
       "      <td>18.5</td>\n",
       "    </tr>\n",
       "    <tr>\n",
       "      <th>4</th>\n",
       "      <td>5</td>\n",
       "      <td>180.8</td>\n",
       "      <td>10.8</td>\n",
       "      <td>58.4</td>\n",
       "      <td>12.9</td>\n",
       "    </tr>\n",
       "    <tr>\n",
       "      <th>...</th>\n",
       "      <td>...</td>\n",
       "      <td>...</td>\n",
       "      <td>...</td>\n",
       "      <td>...</td>\n",
       "      <td>...</td>\n",
       "    </tr>\n",
       "    <tr>\n",
       "      <th>195</th>\n",
       "      <td>196</td>\n",
       "      <td>38.2</td>\n",
       "      <td>3.7</td>\n",
       "      <td>13.8</td>\n",
       "      <td>7.6</td>\n",
       "    </tr>\n",
       "    <tr>\n",
       "      <th>196</th>\n",
       "      <td>197</td>\n",
       "      <td>94.2</td>\n",
       "      <td>4.9</td>\n",
       "      <td>8.1</td>\n",
       "      <td>9.7</td>\n",
       "    </tr>\n",
       "    <tr>\n",
       "      <th>197</th>\n",
       "      <td>198</td>\n",
       "      <td>177.0</td>\n",
       "      <td>9.3</td>\n",
       "      <td>6.4</td>\n",
       "      <td>12.8</td>\n",
       "    </tr>\n",
       "    <tr>\n",
       "      <th>198</th>\n",
       "      <td>199</td>\n",
       "      <td>283.6</td>\n",
       "      <td>42.0</td>\n",
       "      <td>66.2</td>\n",
       "      <td>25.5</td>\n",
       "    </tr>\n",
       "    <tr>\n",
       "      <th>199</th>\n",
       "      <td>200</td>\n",
       "      <td>232.1</td>\n",
       "      <td>8.6</td>\n",
       "      <td>8.7</td>\n",
       "      <td>13.4</td>\n",
       "    </tr>\n",
       "  </tbody>\n",
       "</table>\n",
       "<p>200 rows × 5 columns</p>\n",
       "</div>"
      ],
      "text/plain": [
       "      ID     TV  Radio  Newspaper  Sales\n",
       "0      1  230.1   37.8       69.2   22.1\n",
       "1      2   44.5   39.3       45.1   10.4\n",
       "2      3   17.2   45.9       69.3    9.3\n",
       "3      4  151.5   41.3       58.5   18.5\n",
       "4      5  180.8   10.8       58.4   12.9\n",
       "..   ...    ...    ...        ...    ...\n",
       "195  196   38.2    3.7       13.8    7.6\n",
       "196  197   94.2    4.9        8.1    9.7\n",
       "197  198  177.0    9.3        6.4   12.8\n",
       "198  199  283.6   42.0       66.2   25.5\n",
       "199  200  232.1    8.6        8.7   13.4\n",
       "\n",
       "[200 rows x 5 columns]"
      ]
     },
     "execution_count": 58,
     "metadata": {},
     "output_type": "execute_result"
    }
   ],
   "source": [
    "dataframe"
   ]
  },
  {
   "cell_type": "code",
   "execution_count": 59,
   "id": "9f8f614c",
   "metadata": {},
   "outputs": [],
   "source": [
    "X = dataframe.values[: , 2]"
   ]
  },
  {
   "cell_type": "code",
   "execution_count": 60,
   "id": "a56824c4",
   "metadata": {},
   "outputs": [],
   "source": [
    "y = dataframe.values[: , 4]"
   ]
  },
  {
   "cell_type": "code",
   "execution_count": 61,
   "id": "33bcb71d",
   "metadata": {},
   "outputs": [
    {
     "data": {
      "image/png": "[encoded data removed]",
      "text/plain": [
       "<Figure size 640x480 with 1 Axes>"
      ]
     },
     "metadata": {},
     "output_type": "display_data"
    }
   ],
   "source": [
    "plt.scatter(X,y, marker='o')\n",
    "plt.show()"
   ]
  },
  {
   "cell_type": "markdown",
   "id": "0825ce02",
   "metadata": {},
   "source": [
    "### Tạo một dự đoán \n",
    "sales = Weight*Radio + bias\n",
    "trong đó:\n",
    "- sales và bias là 2 giá trị có sẵn\n",
    "- Weight được gọi là hệ số độc lập\n",
    "- Radio được gọi là biến độc lập (Features)\n",
    "\n"
   ]
  },
  {
   "cell_type": "code",
   "execution_count": 62,
   "id": "10ec9109",
   "metadata": {},
   "outputs": [],
   "source": [
    "def predict(new_radio, weight, bias):\n",
    "    return weight*new_radio + bias\n"
   ]
  },
  {
   "cell_type": "markdown",
   "id": "47ffa06f",
   "metadata": {},
   "source": [
    "### Hàm tính chi phí \n",
    "tham số của cost_function sẽ truyển vào giá trị mảng x và mảng y của chúng ta vì cost_function nó sẽ tính tất cả chi phí các bộ dữ liệu vì thế chúng ta phải truyền vào x và y ban đầu, ngoài ra theo công thức cần dựa vào weight và bias hiện tại mà nó đã học được "
   ]
  },
  {
   "cell_type": "code",
   "execution_count": 63,
   "id": "e67e9a52",
   "metadata": {},
   "outputs": [],
   "source": [
    "def cost_function(X, y, weight, bias):\n",
    "    n = len(X) # để tính trung bình ta phải có độ dài của X \n",
    "    sum_error = 0 # tổng lỗi \n",
    "    for i in range(n): # lặp qua từng bộ dữ liệu \n",
    "        sum_error += (y[i] - (weight * X[i] + bias))**2 # y là giá trị thực tế, X là giá trị dự đoán\n",
    "        \n",
    "    return sum_error/n"
   ]
  },
  {
   "cell_type": "markdown",
   "id": "fe5ea121",
   "metadata": {},
   "source": [
    "### Gradient descent\n",
    "Để tối ứu hàm chi phí chúng ta cần tính lại weight và bias mới tối ưu hơn.\n",
    "Chúng ta thực hiện việc tính weight và bias mới bằng cách:\n",
    "lấy weight và bias hiện tại - (tính weight và bias với mỗi điểm dữ liệu rồi lấy trung bình của tất cả các điểm dữ liệu sau đó nhân với learning rate)\n",
    "Learning rate: tốc độ học "
   ]
  },
  {
   "cell_type": "code",
   "execution_count": 64,
   "id": "5a092ea3",
   "metadata": {},
   "outputs": [],
   "source": [
    "def update_weight(X, y, weight, bias, learning_rate):\n",
    "    n=len(X)\n",
    "    weight_temp = 0.0\n",
    "    bias_temp = 0.0\n",
    "    for i in range(n):\n",
    "        weight_temp += -2*X[i]*(y[i]-(weight*X[i]+bias))\n",
    "        bias_temp += -2*(y[i]-(weight*X[i]+bias))\n",
    "    weight -= (weight_temp/n)*learning_rate\n",
    "    bias -= (bias_temp/n)*learning_rate\n",
    "    \n",
    "    return weight,bias"
   ]
  },
  {
   "cell_type": "markdown",
   "id": "eead1ac5",
   "metadata": {},
   "source": [
    "### Hàm train dữ liệu "
   ]
  },
  {
   "cell_type": "code",
   "execution_count": 65,
   "id": "45abd0b9",
   "metadata": {},
   "outputs": [],
   "source": [
    "def train(X, y, weight, bias, learning_rate, repeat): #repaet: số lần lặp\n",
    "    cos_his = [] # lưu lại lịch sử của hàm chi phí\n",
    "    for i in range(repeat):\n",
    "        weight, bias = update_weight(X, y, weight, bias, learning_rate) # duyệt mỗi lần lặp sẽ update lại weight và bias để tính chi phí\n",
    "        cost = cost_function(X, y, weight, bias) # gọi hàm tính chi phí\n",
    "        cos_his.append(cost) # để kiểm tra xem chi phí có giảm dần hay không\n",
    "    return weight, bias, cos_his\n",
    "    "
   ]
  },
  {
   "cell_type": "markdown",
   "id": "e518b541",
   "metadata": {},
   "source": [
    "### Gọi hàm train để tìm ra weight và bias"
   ]
  },
  {
   "cell_type": "markdown",
   "id": "6df670f5",
   "metadata": {},
   "source": [
    "### Sử dụng một giá trị bất kì để kiểm tra"
   ]
  },
  {
   "cell_type": "code",
   "execution_count": 66,
   "id": "ae229435",
   "metadata": {},
   "outputs": [],
   "source": [
    "weight, bias, cost = train(X, y, 0.03, 0.0014, 0.001, 60)"
   ]
  },
  {
   "cell_type": "code",
   "execution_count": 67,
   "id": "7820e9f4",
   "metadata": {},
   "outputs": [
    {
     "data": {
      "text/plain": [
       "(0.47729527022665263, 0.33138378262051815)"
      ]
     },
     "execution_count": 67,
     "metadata": {},
     "output_type": "execute_result"
    }
   ],
   "source": [
    "weight, bias\n"
   ]
  },
  {
   "cell_type": "code",
   "execution_count": 68,
   "id": "3c0af934",
   "metadata": {},
   "outputs": [
    {
     "data": {
      "text/plain": [
       "[86.42444871530395,\n",
       " 54.81620707415582,\n",
       " 46.16606399414465,\n",
       " 43.7837062962731,\n",
       " 43.112532699857724,\n",
       " 42.90855123523333,\n",
       " 42.83214120342931,\n",
       " 42.79058316020948,\n",
       " 42.758563860080905,\n",
       " 42.72917253849223,\n",
       " 42.70052246892831,\n",
       " 42.67209853116381,\n",
       " 42.64376006550058,\n",
       " 42.61546864326576,\n",
       " 42.587213745780765,\n",
       " 42.55899247407067,\n",
       " 42.53080400943763,\n",
       " 42.50264810114907,\n",
       " 42.474524653563066,\n",
       " 42.44643361341033,\n",
       " 42.41837493902088,\n",
       " 42.3903485919226,\n",
       " 42.362354534547855,\n",
       " 42.33439272960688,\n",
       " 42.306463139917156,\n",
       " 42.278565728356305,\n",
       " 42.250700457849696,\n",
       " 42.222867291366526,\n",
       " 42.195066191919175,\n",
       " 42.167297122562616,\n",
       " 42.139560046394465,\n",
       " 42.11185492655486,\n",
       " 42.08418172622646,\n",
       " 42.05654040863422,\n",
       " 42.02893093704554,\n",
       " 42.001353274770096,\n",
       " 41.97380738515992,\n",
       " 41.94629323160928,\n",
       " 41.91881077755439,\n",
       " 41.891359986473915,\n",
       " 41.86394082188836,\n",
       " 41.836553247360364,\n",
       " 41.80919722649443,\n",
       " 41.78187272293718,\n",
       " 41.75457970037698,\n",
       " 41.727318122544084,\n",
       " 41.70008795321051,\n",
       " 41.67288915619005,\n",
       " 41.645721695338125,\n",
       " 41.61858553455179,\n",
       " 41.59148063776986,\n",
       " 41.564406968972506,\n",
       " 41.53736449218143,\n",
       " 41.510353171459904,\n",
       " 41.483372970912484,\n",
       " 41.45642385468513,\n",
       " 41.429505786965116,\n",
       " 41.40261873198087,\n",
       " 41.375762654002216,\n",
       " 41.348937517340026]"
      ]
     },
     "execution_count": 68,
     "metadata": {},
     "output_type": "execute_result"
    }
   ],
   "source": [
    "cost"
   ]
  },
  {
   "cell_type": "markdown",
   "id": "c26b9647",
   "metadata": {},
   "source": [
    "### Thử một giá trị bất kì vào hàm predict"
   ]
  },
  {
   "cell_type": "code",
   "execution_count": 69,
   "id": "31176e0f",
   "metadata": {},
   "outputs": [
    {
     "data": {
      "text/plain": [
       "9.399993916926919"
      ]
     },
     "execution_count": 69,
     "metadata": {},
     "output_type": "execute_result"
    }
   ],
   "source": [
    "predict(19, weight, bias)"
   ]
  },
  {
   "cell_type": "markdown",
   "id": "89778860",
   "metadata": {},
   "source": [
    "### biểu thị bằng biểu đồ"
   ]
  },
  {
   "cell_type": "code",
   "execution_count": 70,
   "id": "f9ab35b0",
   "metadata": {},
   "outputs": [],
   "source": [
    "solanlap = [i for i in range(60)]"
   ]
  },
  {
   "cell_type": "code",
   "execution_count": 71,
   "id": "f9d9de7c",
   "metadata": {},
   "outputs": [
    {
     "data": {
      "image/png": "[encoded data removed]",
      "text/plain": [
       "<Figure size 640x480 with 1 Axes>"
      ]
     },
     "metadata": {},
     "output_type": "display_data"
    }
   ],
   "source": [
    "plt.plot(solanlap, cost)\n",
    "plt.show()"
   ]
  },
  {
   "cell_type": "code",
   "execution_count": null,
   "id": "ca83a7ce",
   "metadata": {},
   "outputs": [],
   "source": []
  },
  {
   "cell_type": "code",
   "execution_count": null,
   "id": "b286c4d8",
   "metadata": {},
   "outputs": [],
   "source": []
  },
  {
   "cell_type": "code",
   "execution_count": null,
   "id": "5bf52d3e",
   "metadata": {},
   "outputs": [],
   "source": []
  }
 ],
 "metadata": {
  "kernelspec": {
   "display_name": "Python 3 (ipykernel)",
   "language": "python",
   "name": "python3"
  },
  "language_info": {
   "codemirror_mode": {
    "name": "ipython",
    "version": 3
   },
   "file_extension": ".py",
   "mimetype": "text/x-python",
   "name": "python",
   "nbconvert_exporter": "python",
   "pygments_lexer": "ipython3",
   "version": "3.11.5"
  }
 },
 "nbformat": 4,
 "nbformat_minor": 5
}
