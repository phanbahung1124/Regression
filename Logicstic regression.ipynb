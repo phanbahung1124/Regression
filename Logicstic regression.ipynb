{
 "cells": [
  {
   "cell_type": "code",
   "execution_count": 17,
   "id": "9b9c18fb",
   "metadata": {},
   "outputs": [],
   "source": [
    "import pandas as pd\n",
    "import numpy as np\n",
    "import matplotlib.pyplot as plt"
   ]
  },
  {
   "cell_type": "code",
   "execution_count": 18,
   "id": "27cdc2f1",
   "metadata": {},
   "outputs": [],
   "source": [
    "data = pd.read_csv('C:/Users/admin/Downloads/Data_classification.csv', header = None)"
   ]
  },
  {
   "cell_type": "code",
   "execution_count": 19,
   "id": "10a91403",
   "metadata": {},
   "outputs": [
    {
     "data": {
      "text/plain": [
       "array([[4.85506424, 9.63996157, 1.        ],\n",
       "       [8.62543976, 0.05892653, 0.        ],\n",
       "       [3.82819154, 0.72319923, 0.        ],\n",
       "       [7.15095484, 3.89942042, 1.        ],\n",
       "       [6.47790044, 8.19818055, 1.        ],\n",
       "       [1.9222695 , 1.33142726, 0.        ],\n",
       "       [8.97821589, 0.99343751, 1.        ],\n",
       "       [6.63560308, 8.54280268, 1.        ],\n",
       "       [7.67235895, 5.41639979, 1.        ],\n",
       "       [4.86601533, 2.04267129, 0.        ],\n",
       "       [6.86140497, 9.65530972, 1.        ],\n",
       "       [8.54042132, 2.59037423, 1.        ],\n",
       "       [3.71788065, 5.38166211, 0.        ],\n",
       "       [9.18129712, 0.17147465, 1.        ],\n",
       "       [9.56014002, 0.02494649, 0.        ],\n",
       "       [5.97136947, 4.18830187, 1.        ],\n",
       "       [9.43820269, 1.94381244, 1.        ],\n",
       "       [4.35755102, 9.88798331, 1.        ],\n",
       "       [4.54033196, 6.71387336, 1.        ],\n",
       "       [1.54910163, 9.37513216, 0.        ],\n",
       "       [8.08197371, 9.84220681, 1.        ],\n",
       "       [9.620465  , 2.09932754, 1.        ],\n",
       "       [8.83477098, 3.15220412, 1.        ],\n",
       "       [1.75344854, 4.2192426 , 0.        ],\n",
       "       [1.04321284, 2.60976512, 0.        ],\n",
       "       [1.19638318, 7.47574486, 0.        ],\n",
       "       [8.91006988, 8.23292794, 1.        ],\n",
       "       [4.52961874, 4.90551154, 1.        ],\n",
       "       [1.85911241, 5.69186756, 0.        ],\n",
       "       [9.55717884, 1.64467191, 1.        ],\n",
       "       [7.15470123, 8.0147902 , 1.        ],\n",
       "       [2.34361853, 2.95870685, 0.        ],\n",
       "       [2.92268449, 8.21759492, 1.        ],\n",
       "       [6.33309623, 7.24030498, 1.        ],\n",
       "       [0.92562818, 3.42126711, 0.        ],\n",
       "       [7.87439057, 7.79109336, 1.        ],\n",
       "       [8.34775105, 1.86081251, 1.        ],\n",
       "       [5.58106113, 2.49612929, 0.        ],\n",
       "       [5.09102909, 9.87313409, 1.        ],\n",
       "       [4.53017137, 3.761759  , 0.        ],\n",
       "       [1.42377799, 0.22859793, 0.        ],\n",
       "       [9.09596013, 1.06791705, 1.        ],\n",
       "       [4.00661592, 9.79212786, 1.        ],\n",
       "       [8.97656743, 3.93515977, 1.        ],\n",
       "       [0.09805288, 7.21451254, 0.        ],\n",
       "       [0.45238867, 2.77469425, 0.        ],\n",
       "       [3.86304627, 3.91320229, 0.        ],\n",
       "       [7.86385017, 7.72638337, 1.        ],\n",
       "       [8.92270641, 7.75421671, 1.        ],\n",
       "       [7.46436788, 9.94517621, 1.        ],\n",
       "       [1.34192929, 2.34287804, 0.        ],\n",
       "       [5.9409696 , 4.62063163, 1.        ],\n",
       "       [0.90407766, 9.42092878, 0.        ],\n",
       "       [7.75053006, 9.05717188, 1.        ],\n",
       "       [9.51792529, 1.3011859 , 0.        ],\n",
       "       [7.74378671, 1.15442169, 0.        ],\n",
       "       [7.69192306, 8.29822782, 1.        ],\n",
       "       [7.09227303, 2.35745691, 0.        ],\n",
       "       [6.94443908, 6.48470389, 1.        ],\n",
       "       [0.04502472, 3.34600593, 0.        ],\n",
       "       [1.54596913, 7.56770009, 1.        ],\n",
       "       [5.27238317, 9.14961537, 1.        ],\n",
       "       [0.86040708, 8.98818814, 0.        ],\n",
       "       [7.25343893, 1.76251062, 1.        ],\n",
       "       [7.51730898, 2.24892929, 0.        ],\n",
       "       [9.08162719, 1.4373504 , 1.        ],\n",
       "       [0.45567818, 4.72229748, 0.        ],\n",
       "       [6.94970542, 1.41129336, 0.        ],\n",
       "       [9.28214252, 8.52933054, 1.        ],\n",
       "       [7.18081269, 3.61076342, 1.        ],\n",
       "       [1.13248839, 3.26491181, 0.        ],\n",
       "       [7.74652845, 3.64301925, 1.        ],\n",
       "       [7.06536045, 1.12132813, 0.        ],\n",
       "       [6.50581749, 0.86310223, 0.        ],\n",
       "       [5.70052911, 7.08354423, 1.        ],\n",
       "       [6.66046669, 2.25395578, 0.        ],\n",
       "       [1.09147202, 7.08437697, 0.        ],\n",
       "       [4.90308762, 6.02547778, 0.        ],\n",
       "       [3.44310934, 7.06634686, 0.        ],\n",
       "       [8.18297806, 0.97498656, 1.        ],\n",
       "       [9.00037648, 9.54932786, 1.        ],\n",
       "       [9.68310414, 9.50704973, 1.        ],\n",
       "       [2.99191148, 5.29921046, 0.        ],\n",
       "       [2.23818348, 4.5348437 , 0.        ],\n",
       "       [0.66547833, 9.78263644, 1.        ],\n",
       "       [6.77931871, 2.02818075, 0.        ],\n",
       "       [9.94784093, 1.02645781, 1.        ],\n",
       "       [3.21484922, 0.48505899, 0.        ],\n",
       "       [8.85164631, 1.02791596, 1.        ],\n",
       "       [0.20005787, 4.83405955, 0.        ],\n",
       "       [5.18546951, 0.73263081, 0.        ],\n",
       "       [7.26008815, 3.97413383, 1.        ],\n",
       "       [9.15051613, 2.56233373, 1.        ],\n",
       "       [6.46089606, 7.07629269, 1.        ],\n",
       "       [4.77857249, 8.28287133, 1.        ],\n",
       "       [0.02227957, 2.65842789, 0.        ],\n",
       "       [7.63063693, 7.4053514 , 1.        ],\n",
       "       [3.68499747, 5.04996512, 0.        ],\n",
       "       [7.48425954, 6.05939581, 1.        ],\n",
       "       [2.03070798, 3.93726653, 0.        ]])"
      ]
     },
     "execution_count": 19,
     "metadata": {},
     "output_type": "execute_result"
    }
   ],
   "source": [
    "data.values"
   ]
  },
  {
   "cell_type": "code",
   "execution_count": 20,
   "id": "1333298d",
   "metadata": {},
   "outputs": [],
   "source": [
    "true_x = []\n",
    "true_y = []\n",
    "false_x = []\n",
    "false_y = []"
   ]
  },
  {
   "cell_type": "code",
   "execution_count": 21,
   "id": "72053c0a",
   "metadata": {},
   "outputs": [],
   "source": [
    "for item in data.values:\n",
    "    if item[2] == 1:\n",
    "        true_x.append(item[0])\n",
    "        true_y.append(item[1])\n",
    "    else:\n",
    "        false_x.append(item[0])\n",
    "        false_y.append(item[1])\n",
    "        "
   ]
  },
  {
   "cell_type": "code",
   "execution_count": 23,
   "id": "e94ff081",
   "metadata": {},
   "outputs": [
    {
     "data": {
      "image/png": "[encoded data removed]",
      "text/plain": [
       "<Figure size 640x480 with 1 Axes>"
      ]
     },
     "metadata": {},
     "output_type": "display_data"
    }
   ],
   "source": [
    "plt.scatter(true_x, true_y, marker='o', c='b')\n",
    "plt.scatter(false_x, false_y, marker='s', c='r')\n",
    "plt.show()"
   ]
  },
  {
   "cell_type": "code",
   "execution_count": 24,
   "id": "38ceb0ec",
   "metadata": {},
   "outputs": [],
   "source": [
    "def sigmoid(z):\n",
    "    return 1.0/(1+ np.exp(-z))"
   ]
  },
  {
   "cell_type": "code",
   "execution_count": 26,
   "id": "5f55cfb7",
   "metadata": {},
   "outputs": [],
   "source": [
    "def phan_chia(p):\n",
    "    if p >= 0.5:\n",
    "        return 1\n",
    "    else:\n",
    "        return 0"
   ]
  },
  {
   "cell_type": "code",
   "execution_count": 28,
   "id": "2b3e06a2",
   "metadata": {},
   "outputs": [],
   "source": [
    "def predict(feature, weights):\n",
    "    z= np.dot(feature, weights)\n",
    "    return sigmoid(z)"
   ]
  },
  {
   "cell_type": "code",
   "execution_count": 30,
   "id": "75d24c51",
   "metadata": {},
   "outputs": [],
   "source": [
    "def cost_function(features, labels, weights):\n",
    "    n=len(labels)\n",
    "    predictions = predict(feature, weights)\n",
    "    cost_class1 = -labels*np.log(predictions)\n",
    "    cost_class2 = -(1-labels)*np.log(1 - predictions)\n",
    "    cost = cost_class1 + cost_class2\n",
    "    return cost.sum()/n"
   ]
  },
  {
   "cell_type": "code",
   "execution_count": 32,
   "id": "56602c00",
   "metadata": {},
   "outputs": [],
   "source": [
    "def update_weight(features, labels, weights, learning_rate):\n",
    "    n=len(labels)\n",
    "    predictions = predict(features, weights)\n",
    "    gd = np.dot(features.T, (predictions - labels))\n",
    "    gd = gd/n\n",
    "    gd = gd*learning_rate\n",
    "    weights = weights -gd\n",
    "    return weights"
   ]
  },
  {
   "cell_type": "code",
   "execution_count": 34,
   "id": "0225c7b8",
   "metadata": {},
   "outputs": [],
   "source": [
    "def train(features, labels, weights, learning_rate, iter):\n",
    "    cost_hs=[]\n",
    "    for i in range(iter):\n",
    "        weights = update_weight(features, labels, weights, learning_rate)\n",
    "        cost = cost_function(features, labels, weights)\n",
    "        cost_hs.append(cost)\n",
    "        \n",
    "    return weights, cost_hs"
   ]
  },
  {
   "cell_type": "code",
   "execution_count": null,
   "id": "8abbe6e8",
   "metadata": {},
   "outputs": [],
   "source": []
  }
 ],
 "metadata": {
  "kernelspec": {
   "display_name": "Python 3 (ipykernel)",
   "language": "python",
   "name": "python3"
  },
  "language_info": {
   "codemirror_mode": {
    "name": "ipython",
    "version": 3
   },
   "file_extension": ".py",
   "mimetype": "text/x-python",
   "name": "python",
   "nbconvert_exporter": "python",
   "pygments_lexer": "ipython3",
   "version": "3.11.5"
  }
 },
 "nbformat": 4,
 "nbformat_minor": 5
}
